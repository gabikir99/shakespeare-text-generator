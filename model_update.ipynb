{
 "cells": [
  {
   "cell_type": "code",
   "execution_count": 1,
   "id": "995a36a6",
   "metadata": {},
   "outputs": [],
   "source": [
    "import numpy as np \n",
    "import pandas as pd \n",
    "import spacy \n",
    "\n",
    "from pickle import dump, load \n",
    "from sklearn.model_selection import train_test_split\n",
    "from keras.models import Sequential\n",
    "from keras.layers import Embedding, LSTM, Dense, GRU, Dropout\n",
    "from keras.utils import to_categorical\n",
    "from keras.preprocessing.text import Tokenizer\n",
    "from keras.preprocessing.sequence import pad_sequences"
   ]
  },
  {
   "cell_type": "code",
   "execution_count": 16,
   "id": "d86a790e",
   "metadata": {},
   "outputs": [],
   "source": [
    "nlp = spacy.load('en_core_web_md', disable=['parser', 'ner', 'tagger'])\n",
    "nlp.max_length = 5_000_000"
   ]
  },
  {
   "cell_type": "code",
   "execution_count": 17,
   "id": "cc4f2d1f",
   "metadata": {},
   "outputs": [
    {
     "name": "stdout",
     "output_type": "stream",
     "text": [
      "                                                line\n",
      "0                                            \"ACT I\"\n",
      "1                     \"SCENE I. London. The palace.\"\n",
      "2  \"Enter KING HENRY, LORD JOHN OF LANCASTER, the...\n",
      "3           \"So shaken as we are, so wan with care,\"\n",
      "4       \"Find we a time for frighted peace to pant,\"\n"
     ]
    }
   ],
   "source": [
    "# Read each line and store as a list\n",
    "with open('first_1000_lines.txt', 'r', encoding='utf-8') as file:\n",
    "    lines = file.readlines()\n",
    "\n",
    "# Strip newline characters and put into a DataFrame\n",
    "data = pd.DataFrame([line.strip() for line in lines], columns=['line'])\n",
    "print(data.head())"
   ]
  },
  {
   "cell_type": "code",
   "execution_count": 18,
   "id": "99346e6c",
   "metadata": {},
   "outputs": [
    {
     "data": {
      "text/plain": [
       "(1000, 1)"
      ]
     },
     "execution_count": 18,
     "metadata": {},
     "output_type": "execute_result"
    }
   ],
   "source": [
    "data.dropna(inplace=True)\n",
    "data.shape "
   ]
  },
  {
   "cell_type": "code",
   "execution_count": 31,
   "id": "5866a742",
   "metadata": {},
   "outputs": [
    {
     "data": {
      "text/plain": [
       "(1000, 1)"
      ]
     },
     "execution_count": 31,
     "metadata": {},
     "output_type": "execute_result"
    }
   ],
   "source": [
    "data = data[data['line'].str.len() > 2]\n",
    "data.shape"
   ]
  },
  {
   "cell_type": "code",
   "execution_count": 35,
   "id": "4d8bea0f",
   "metadata": {},
   "outputs": [],
   "source": [
    "def is_valid_line(line):\n",
    "    line = line.strip().lower()\n",
    "    \n",
    "    # Remove surrounding double quotes\n",
    "    if line.startswith('\"') and line.endswith('\"'):\n",
    "        line = line[1:-1]\n",
    "\n",
    "    # Remove empty lines\n",
    "    if len(line) < 3:\n",
    "        return False\n",
    "    \n",
    "    # Remove known stage directions\n",
    "    if re.match(r'^(scene|act|enter|exeunt|exit|manet)', line):\n",
    "        return False\n",
    "\n",
    "    # Remove lines in brackets or all uppercase (common for directions)\n",
    "    if line.startswith('[') or line.startswith('('):\n",
    "        return False\n",
    "    if line.upper() == line and len(line.split()) < 5:\n",
    "        return False\n",
    "\n",
    "    return True"
   ]
  },
  {
   "cell_type": "code",
   "execution_count": 36,
   "id": "91cfbb5e",
   "metadata": {},
   "outputs": [
    {
     "name": "stdout",
     "output_type": "stream",
     "text": [
      "['So shaken as we are, so wan with care,', 'Find we a time for frighted peace to pant,', 'And breathe short-winded accents of new broils', 'To be commenced in strands afar remote.', 'No more the thirsty entrance of this soil', \"Shall daub her lips with her own children's blood,\", 'Nor more shall trenching war channel her fields,', 'Nor bruise her flowerets with the armed hoofs', 'Of hostile paces: those opposed eyes,', 'Which, like the meteors of a troubled heaven,']\n"
     ]
    }
   ],
   "source": [
    "clean_lines = [line.strip('\"') for line in data['line'] if is_valid_line(line)]\n",
    "print(clean_lines[:10])"
   ]
  }
 ],
 "metadata": {
  "kernelspec": {
   "display_name": "Python 3",
   "language": "python",
   "name": "python3"
  },
  "language_info": {
   "codemirror_mode": {
    "name": "ipython",
    "version": 3
   },
   "file_extension": ".py",
   "mimetype": "text/x-python",
   "name": "python",
   "nbconvert_exporter": "python",
   "pygments_lexer": "ipython3",
   "version": "3.8.20"
  }
 },
 "nbformat": 4,
 "nbformat_minor": 5
}
