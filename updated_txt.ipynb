{
 "cells": [
  {
   "cell_type": "code",
   "execution_count": 42,
   "id": "0bc0ae53",
   "metadata": {},
   "outputs": [
    {
     "name": "stdout",
     "output_type": "stream",
     "text": [
      "New file saved as: first_1000_lines.txt\n"
     ]
    }
   ],
   "source": [
    "# Read the original file and write the first 1000 lines to a new file\n",
    "input_path = 'alllines.txt'\n",
    "output_path = 'first_1000_lines.txt'\n",
    "\n",
    "with open(input_path, 'r', encoding='utf-8') as infile:\n",
    "    lines = infile.readlines()\n",
    "\n",
    "# Take only the first 1000 lines\n",
    "shortened_lines = lines[:1000]\n",
    "\n",
    "with open(output_path, 'w', encoding='utf-8') as outfile:\n",
    "    outfile.writelines(shortened_lines)\n",
    "\n",
    "print(f\"New file saved as: {output_path}\")"
   ]
  }
 ],
 "metadata": {
  "kernelspec": {
   "display_name": "Python 3",
   "language": "python",
   "name": "python3"
  },
  "language_info": {
   "codemirror_mode": {
    "name": "ipython",
    "version": 3
   },
   "file_extension": ".py",
   "mimetype": "text/x-python",
   "name": "python",
   "nbconvert_exporter": "python",
   "pygments_lexer": "ipython3",
   "version": "3.8.20"
  }
 },
 "nbformat": 4,
 "nbformat_minor": 5
}
